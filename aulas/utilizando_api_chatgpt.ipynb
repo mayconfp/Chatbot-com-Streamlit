{
 "cells": [
  {
   "cell_type": "code",
   "execution_count": 23,
   "id": "779f45d6",
   "metadata": {},
   "outputs": [],
   "source": [
    "import os\n",
    "\n",
    "import openai\n",
    "\n",
    "from dotenv import load_dotenv, find_dotenv\n",
    "import json\n",
    "\n",
    "_=load_dotenv(find_dotenv())\n",
    "\n",
    "openai_key = os.getenv('OPENAI_API_KEY')\n"
   ]
  },
  {
   "cell_type": "markdown",
   "id": "77ffcd61",
   "metadata": {},
   "source": [
    "Função para retornar a mensagem do modelo"
   ]
  },
  {
   "cell_type": "code",
   "execution_count": 24,
   "id": "4505fdb7",
   "metadata": {},
   "outputs": [],
   "source": [
    "def retorna_respota_modelo(mensagens, openai_key, model=\"gpt-4o-mini\", temperatura=0, stream=False):\n",
    "    openai.api_key = openai_key\n",
    "    response = openai.chat.completions.create(\n",
    "        model=model,\n",
    "        messages=mensagens,\n",
    "        temperature=temperatura,\n",
    "        stream=stream,\n",
    "    )\n",
    "    \n",
    "    return response"
   ]
  },
  {
   "cell_type": "code",
   "execution_count": null,
   "id": "b6abeb97",
   "metadata": {},
   "outputs": [
    {
     "name": "stdout",
     "output_type": "stream",
     "text": [
      "Assistant:  Fruta, redonda, doce, saudável, nutritiva.\n"
     ]
    }
   ],
   "source": [
    "mensagens = [{'role': 'user', 'content': 'o que é uma maçã em 5 palavras?'}]\n",
    "resposta = retorna_respota_modelo(mensagens, openai_key)\n",
    "\n",
    "#print (json.dumps(resposta.model_dump(), indent=2)) formato da resposta em json\n",
    "\n",
    "print (\"Assistant: \", resposta.choices[0].message.content) #formato ja da resposta\n",
    "\n",
    "\n",
    "\n"
   ]
  },
  {
   "cell_type": "code",
   "execution_count": 42,
   "id": "9c7ec5ad",
   "metadata": {},
   "outputs": [
    {
     "data": {
      "text/plain": [
       "[{'role': 'user', 'content': 'o que é uma maçã em 5 palavras?'},\n",
       " {'role': 'assistant',\n",
       "  'content': 'Fruta, redonda, doce, saudável, nutritiva.'},\n",
       " {'role': 'assistant',\n",
       "  'content': 'Fruta, redonda, doce, saudável, nutritiva.'},\n",
       " {'role': 'assistant',\n",
       "  'content': 'Fruta, redonda, doce, saudável, nutritiva.'}]"
      ]
     },
     "execution_count": 42,
     "metadata": {},
     "output_type": "execute_result"
    }
   ],
   "source": [
    "mensagens.append({'role': 'assistant', 'content': resposta.choices[0].message.content})\n",
    "mensagens\n"
   ]
  },
  {
   "cell_type": "code",
   "execution_count": 44,
   "id": "8a10a2d6",
   "metadata": {},
   "outputs": [
    {
     "data": {
      "text/plain": [
       "[{'role': 'user', 'content': 'o que é uma maçã em 5 palavras?'},\n",
       " {'role': 'assistant',\n",
       "  'content': 'Fruta, redonda, doce, saudável, nutritiva.'},\n",
       " {'role': 'assistant',\n",
       "  'content': 'Fruta, redonda, doce, saudável, nutritiva.'},\n",
       " {'role': 'assistant',\n",
       "  'content': 'Fruta, redonda, doce, saudável, nutritiva.'},\n",
       " {'role': 'user', 'content': 'Qual seu tamanho?'},\n",
       " {'role': 'user', 'content': 'Qual seu tamanho?'}]"
      ]
     },
     "execution_count": 44,
     "metadata": {},
     "output_type": "execute_result"
    }
   ],
   "source": [
    "mensagens.append({'role': 'user', 'content': 'Qual seu tamanho?'})\n",
    "mensagens\n"
   ]
  },
  {
   "cell_type": "code",
   "execution_count": 45,
   "id": "ca89cc3e",
   "metadata": {},
   "outputs": [
    {
     "data": {
      "text/plain": [
       "'O tamanho de uma maçã pode variar, mas geralmente elas têm entre 7 a 10 centímetros de diâmetro. Algumas variedades podem ser menores ou maiores. Se precisar de informações sobre um tipo específico de maçã, posso ajudar!'"
      ]
     },
     "execution_count": 45,
     "metadata": {},
     "output_type": "execute_result"
    }
   ],
   "source": [
    "resposta = retorna_respota_modelo(mensagens, openai_key)\n",
    "resposta.choices[0].message.content"
   ]
  },
  {
   "cell_type": "markdown",
   "id": "10940093",
   "metadata": {},
   "source": [
    "Recebendo Stream de respostas"
   ]
  },
  {
   "cell_type": "code",
   "execution_count": 65,
   "id": "30abb82b",
   "metadata": {},
   "outputs": [
    {
     "name": "stdout",
     "output_type": "stream",
     "text": [
      "Nova resposta >>  \n",
      "Nova resposta >>  Fr\n",
      "Nova resposta >>  uta\n",
      "Nova resposta >>  ,\n",
      "Nova resposta >>   red\n",
      "Nova resposta >>  onda\n",
      "Nova resposta >>  ,\n",
      "Nova resposta >>   su\n",
      "Nova resposta >>  cul\n",
      "Nova resposta >>  enta\n",
      "Nova resposta >>  ,\n",
      "Nova resposta >>   nutrit\n",
      "Nova resposta >>  iva\n",
      "Nova resposta >>  ,\n",
      "Nova resposta >>   doce\n",
      "Nova resposta >>  .\n",
      "Nova resposta >>  None\n"
     ]
    }
   ],
   "source": [
    "mensagens = [\n",
    "    {\n",
    "        'role': 'user',\n",
    "        'content':'O que é uma maça em 5 palavras?'\n",
    "    }\n",
    "]\n",
    "respostas = retorna_respota_modelo(mensagens, openai_key, stream=True)\n",
    "\n",
    "for resposta in respostas :\n",
    "    print('Nova resposta >> ', resposta.choices[0].delta.content)\n",
    "    "
   ]
  },
  {
   "cell_type": "code",
   "execution_count": null,
   "id": "6ef405e8",
   "metadata": {},
   "outputs": [],
   "source": []
  }
 ],
 "metadata": {
  "kernelspec": {
   "display_name": "Python 3",
   "language": "python",
   "name": "python3"
  },
  "language_info": {
   "codemirror_mode": {
    "name": "ipython",
    "version": 3
   },
   "file_extension": ".py",
   "mimetype": "text/x-python",
   "name": "python",
   "nbconvert_exporter": "python",
   "pygments_lexer": "ipython3",
   "version": "3.12.3"
  }
 },
 "nbformat": 4,
 "nbformat_minor": 5
}
